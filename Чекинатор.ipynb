{
  "nbformat": 4,
  "nbformat_minor": 0,
  "metadata": {
    "colab": {
      "name": "Чекинатор.ipynb",
      "provenance": []
    },
    "kernelspec": {
      "name": "python3",
      "display_name": "Python 3"
    },
    "language_info": {
      "name": "python"
    }
  },
  "cells": [
    {
      "cell_type": "code",
      "metadata": {
        "colab": {
          "base_uri": "https://localhost:8080/"
        },
        "id": "5rahLfpQ_qR9",
        "outputId": "f5ef6ffd-d6c6-4def-db8e-b31011046b19"
      },
      "source": [
        "import nltk;\n",
        "import requests;\n",
        "import collections;\n",
        "\n",
        "nltk.download('punkt')\n",
        "nltk.download('averaged_perceptron_tagger')\n",
        "nltk.download('tagsets')"
      ],
      "execution_count": 60,
      "outputs": [
        {
          "output_type": "stream",
          "name": "stdout",
          "text": [
            "[nltk_data] Downloading package punkt to /root/nltk_data...\n",
            "[nltk_data]   Package punkt is already up-to-date!\n",
            "[nltk_data] Downloading package averaged_perceptron_tagger to\n",
            "[nltk_data]     /root/nltk_data...\n",
            "[nltk_data]   Package averaged_perceptron_tagger is already up-to-\n",
            "[nltk_data]       date!\n",
            "[nltk_data] Downloading package tagsets to /root/nltk_data...\n",
            "[nltk_data]   Package tagsets is already up-to-date!\n"
          ]
        },
        {
          "output_type": "execute_result",
          "data": {
            "text/plain": [
              "True"
            ]
          },
          "metadata": {},
          "execution_count": 60
        }
      ]
    },
    {
      "cell_type": "code",
      "metadata": {
        "colab": {
          "base_uri": "https://localhost:8080/"
        },
        "id": "N3xA6r0nsK1W",
        "outputId": "f9af80af-c4c6-43fb-b093-e50fa94955b1"
      },
      "source": [
        "gist_url = 'https://gist.githubusercontent.com/nzhukov/b66c831ea88b4e5c4a044c952fb3e1ae/raw/7935e52297e2e85933e41d1fd16ed529f1e689f5/A%2520Brief%2520History%2520of%2520the%2520Web.txt';\n",
        "gist_content = requests.get(gist_url);\n",
        "gist_text = gist_content.text.replace('\\n', '');\n",
        "\n",
        "tokens = nltk.word_tokenize(gist_text);\n",
        "tags = nltk.pos_tag(tokens);\n",
        "\n",
        "tags_counter = collections.Counter()\n",
        "\n",
        "for tag in tags:\n",
        "  tags_counter[tag[1]] += 1;\n",
        "\n",
        "for tag_element in tags_counter.most_common(5):\n",
        "  print(tag_element[0], ':', tag_element[1]);\n",
        "  "
      ],
      "execution_count": 61,
      "outputs": [
        {
          "output_type": "stream",
          "name": "stdout",
          "text": [
            "NN : 592\n",
            "IN : 465\n",
            "DT : 435\n",
            "JJ : 265\n",
            "NNP : 258\n"
          ]
        }
      ]
    }
  ]
}